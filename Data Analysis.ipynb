{
 "cells": [
  {
   "cell_type": "code",
   "execution_count": 1,
   "metadata": {
    "collapsed": true
   },
   "outputs": [],
   "source": [
    "#importing the necessary libraries\n",
    "import numpy as np\n",
    "import pandas as pd\n",
    "import matplotlib.pyplot as plt\n",
    "%matplotlib inline"
   ]
  },
  {
   "cell_type": "code",
   "execution_count": 2,
   "metadata": {
    "collapsed": true
   },
   "outputs": [],
   "source": [
    "data=pd.read_csv('DSL-StrongPasswordData.csv')\n",
    "data = data.reset_index()"
   ]
  },
  {
   "cell_type": "code",
   "execution_count": 3,
   "metadata": {},
   "outputs": [
    {
     "data": {
      "text/html": [
       "<div>\n",
       "<style>\n",
       "    .dataframe thead tr:only-child th {\n",
       "        text-align: right;\n",
       "    }\n",
       "\n",
       "    .dataframe thead th {\n",
       "        text-align: left;\n",
       "    }\n",
       "\n",
       "    .dataframe tbody tr th {\n",
       "        vertical-align: top;\n",
       "    }\n",
       "</style>\n",
       "<table border=\"1\" class=\"dataframe\">\n",
       "  <thead>\n",
       "    <tr style=\"text-align: right;\">\n",
       "      <th></th>\n",
       "      <th>index</th>\n",
       "      <th>subject</th>\n",
       "      <th>sessionIndex</th>\n",
       "      <th>rep</th>\n",
       "      <th>H.period</th>\n",
       "      <th>DD.period.t</th>\n",
       "      <th>UD.period.t</th>\n",
       "      <th>H.t</th>\n",
       "      <th>DD.t.i</th>\n",
       "      <th>UD.t.i</th>\n",
       "      <th>...</th>\n",
       "      <th>H.a</th>\n",
       "      <th>DD.a.n</th>\n",
       "      <th>UD.a.n</th>\n",
       "      <th>H.n</th>\n",
       "      <th>DD.n.l</th>\n",
       "      <th>UD.n.l</th>\n",
       "      <th>H.l</th>\n",
       "      <th>DD.l.Return</th>\n",
       "      <th>UD.l.Return</th>\n",
       "      <th>H.Return</th>\n",
       "    </tr>\n",
       "  </thead>\n",
       "  <tbody>\n",
       "    <tr>\n",
       "      <th>0</th>\n",
       "      <td>0</td>\n",
       "      <td>s002</td>\n",
       "      <td>1</td>\n",
       "      <td>1</td>\n",
       "      <td>0.1491</td>\n",
       "      <td>0.3979</td>\n",
       "      <td>0.2488</td>\n",
       "      <td>0.1069</td>\n",
       "      <td>0.1674</td>\n",
       "      <td>0.0605</td>\n",
       "      <td>...</td>\n",
       "      <td>0.1349</td>\n",
       "      <td>0.1484</td>\n",
       "      <td>0.0135</td>\n",
       "      <td>0.0932</td>\n",
       "      <td>0.3515</td>\n",
       "      <td>0.2583</td>\n",
       "      <td>0.1338</td>\n",
       "      <td>0.3509</td>\n",
       "      <td>0.2171</td>\n",
       "      <td>0.0742</td>\n",
       "    </tr>\n",
       "    <tr>\n",
       "      <th>1</th>\n",
       "      <td>1</td>\n",
       "      <td>s002</td>\n",
       "      <td>1</td>\n",
       "      <td>2</td>\n",
       "      <td>0.1111</td>\n",
       "      <td>0.3451</td>\n",
       "      <td>0.2340</td>\n",
       "      <td>0.0694</td>\n",
       "      <td>0.1283</td>\n",
       "      <td>0.0589</td>\n",
       "      <td>...</td>\n",
       "      <td>0.1412</td>\n",
       "      <td>0.2558</td>\n",
       "      <td>0.1146</td>\n",
       "      <td>0.1146</td>\n",
       "      <td>0.2642</td>\n",
       "      <td>0.1496</td>\n",
       "      <td>0.0839</td>\n",
       "      <td>0.2756</td>\n",
       "      <td>0.1917</td>\n",
       "      <td>0.0747</td>\n",
       "    </tr>\n",
       "    <tr>\n",
       "      <th>2</th>\n",
       "      <td>2</td>\n",
       "      <td>s002</td>\n",
       "      <td>1</td>\n",
       "      <td>3</td>\n",
       "      <td>0.1328</td>\n",
       "      <td>0.2072</td>\n",
       "      <td>0.0744</td>\n",
       "      <td>0.0731</td>\n",
       "      <td>0.1291</td>\n",
       "      <td>0.0560</td>\n",
       "      <td>...</td>\n",
       "      <td>0.1621</td>\n",
       "      <td>0.2332</td>\n",
       "      <td>0.0711</td>\n",
       "      <td>0.1172</td>\n",
       "      <td>0.2705</td>\n",
       "      <td>0.1533</td>\n",
       "      <td>0.1085</td>\n",
       "      <td>0.2847</td>\n",
       "      <td>0.1762</td>\n",
       "      <td>0.0945</td>\n",
       "    </tr>\n",
       "    <tr>\n",
       "      <th>3</th>\n",
       "      <td>3</td>\n",
       "      <td>s002</td>\n",
       "      <td>1</td>\n",
       "      <td>4</td>\n",
       "      <td>0.1291</td>\n",
       "      <td>0.2515</td>\n",
       "      <td>0.1224</td>\n",
       "      <td>0.1059</td>\n",
       "      <td>0.2495</td>\n",
       "      <td>0.1436</td>\n",
       "      <td>...</td>\n",
       "      <td>0.1457</td>\n",
       "      <td>0.1629</td>\n",
       "      <td>0.0172</td>\n",
       "      <td>0.0866</td>\n",
       "      <td>0.2341</td>\n",
       "      <td>0.1475</td>\n",
       "      <td>0.0845</td>\n",
       "      <td>0.3232</td>\n",
       "      <td>0.2387</td>\n",
       "      <td>0.0813</td>\n",
       "    </tr>\n",
       "    <tr>\n",
       "      <th>4</th>\n",
       "      <td>4</td>\n",
       "      <td>s002</td>\n",
       "      <td>1</td>\n",
       "      <td>5</td>\n",
       "      <td>0.1249</td>\n",
       "      <td>0.2317</td>\n",
       "      <td>0.1068</td>\n",
       "      <td>0.0895</td>\n",
       "      <td>0.1676</td>\n",
       "      <td>0.0781</td>\n",
       "      <td>...</td>\n",
       "      <td>0.1312</td>\n",
       "      <td>0.1582</td>\n",
       "      <td>0.0270</td>\n",
       "      <td>0.0884</td>\n",
       "      <td>0.2517</td>\n",
       "      <td>0.1633</td>\n",
       "      <td>0.0903</td>\n",
       "      <td>0.2517</td>\n",
       "      <td>0.1614</td>\n",
       "      <td>0.0818</td>\n",
       "    </tr>\n",
       "  </tbody>\n",
       "</table>\n",
       "<p>5 rows × 35 columns</p>\n",
       "</div>"
      ],
      "text/plain": [
       "   index subject  sessionIndex  rep  H.period  DD.period.t  UD.period.t  \\\n",
       "0      0    s002             1    1    0.1491       0.3979       0.2488   \n",
       "1      1    s002             1    2    0.1111       0.3451       0.2340   \n",
       "2      2    s002             1    3    0.1328       0.2072       0.0744   \n",
       "3      3    s002             1    4    0.1291       0.2515       0.1224   \n",
       "4      4    s002             1    5    0.1249       0.2317       0.1068   \n",
       "\n",
       "      H.t  DD.t.i  UD.t.i    ...        H.a  DD.a.n  UD.a.n     H.n  DD.n.l  \\\n",
       "0  0.1069  0.1674  0.0605    ...     0.1349  0.1484  0.0135  0.0932  0.3515   \n",
       "1  0.0694  0.1283  0.0589    ...     0.1412  0.2558  0.1146  0.1146  0.2642   \n",
       "2  0.0731  0.1291  0.0560    ...     0.1621  0.2332  0.0711  0.1172  0.2705   \n",
       "3  0.1059  0.2495  0.1436    ...     0.1457  0.1629  0.0172  0.0866  0.2341   \n",
       "4  0.0895  0.1676  0.0781    ...     0.1312  0.1582  0.0270  0.0884  0.2517   \n",
       "\n",
       "   UD.n.l     H.l  DD.l.Return  UD.l.Return  H.Return  \n",
       "0  0.2583  0.1338       0.3509       0.2171    0.0742  \n",
       "1  0.1496  0.0839       0.2756       0.1917    0.0747  \n",
       "2  0.1533  0.1085       0.2847       0.1762    0.0945  \n",
       "3  0.1475  0.0845       0.3232       0.2387    0.0813  \n",
       "4  0.1633  0.0903       0.2517       0.1614    0.0818  \n",
       "\n",
       "[5 rows x 35 columns]"
      ]
     },
     "execution_count": 3,
     "metadata": {},
     "output_type": "execute_result"
    }
   ],
   "source": [
    "data.head()"
   ]
  },
  {
   "cell_type": "markdown",
   "metadata": {},
   "source": [
    "Data Pre-processing"
   ]
  },
  {
   "cell_type": "code",
   "execution_count": 4,
   "metadata": {},
   "outputs": [],
   "source": [
    "#removing the irrelevant part from the 'subject' column\n",
    "data['subject'] = data.subject.str.extract('(\\d+)', expand=True).astype(int)"
   ]
  },
  {
   "cell_type": "markdown",
   "metadata": {},
   "source": [
    "Let's try to find if any outliers exists. We will be considering 3 columns throughout this data set; 'H.period' , 'DD.e.five' and 'UD.o.a'"
   ]
  },
  {
   "cell_type": "markdown",
   "metadata": {},
   "source": [
    "Mapping Index on the x-axis and H.period on the y-axis"
   ]
  },
  {
   "cell_type": "code",
   "execution_count": 5,
   "metadata": {},
   "outputs": [
    {
     "data": {
      "image/png": "[encoded data removed]",
      "text/plain": [
       "<matplotlib.figure.Figure at 0x1d1f59eb898>"
      ]
     },
     "metadata": {},
     "output_type": "display_data"
    }
   ],
   "source": [
    "x = data.loc[:, 'index']\n",
    "y = data.loc[:, 'H.period']\n",
    "plt.scatter(x, y)\n",
    "plt.autoscale(tight=True)\n",
    "plt.title('User Vs Period hold time')\n",
    "plt.ylabel('Hold time for period')\n",
    "plt.xlabel('User Index')\n",
    "plt.show()"
   ]
  },
  {
   "cell_type": "markdown",
   "metadata": {},
   "source": [
    "It can be seen there are quiet a few outliers. \n",
    "The minimum and maximum can be found out as follows:"
   ]
  },
  {
   "cell_type": "code",
   "execution_count": 6,
   "metadata": {},
   "outputs": [
    {
     "data": {
      "text/plain": [
       "index              730.0000\n",
       "subject              3.0000\n",
       "sessionIndex         7.0000\n",
       "rep                 31.0000\n",
       "H.period             0.3761\n",
       "DD.period.t          0.1403\n",
       "UD.period.t         -0.2358\n",
       "H.t                  0.1602\n",
       "DD.t.i               0.1066\n",
       "UD.t.i              -0.0536\n",
       "H.i                  0.1816\n",
       "DD.i.e               0.2091\n",
       "UD.i.e               0.0275\n",
       "H.e                  0.2360\n",
       "DD.e.five            0.0855\n",
       "UD.e.five           -0.1505\n",
       "H.five               0.1103\n",
       "DD.five.Shift.r      0.4218\n",
       "UD.five.Shift.r      0.3115\n",
       "H.Shift.r            0.1263\n",
       "DD.Shift.r.o         0.2424\n",
       "UD.Shift.r.o         0.1161\n",
       "H.o                  0.1510\n",
       "DD.o.a               0.1484\n",
       "UD.o.a              -0.0026\n",
       "H.a                  0.1563\n",
       "DD.a.n               0.1270\n",
       "UD.a.n              -0.0293\n",
       "H.n                  0.1249\n",
       "DD.n.l               0.1397\n",
       "UD.n.l               0.0148\n",
       "H.l                  0.1095\n",
       "DD.l.Return          0.2384\n",
       "UD.l.Return          0.1289\n",
       "H.Return             0.1219\n",
       "Name: 730, dtype: float64"
      ]
     },
     "execution_count": 6,
     "metadata": {},
     "output_type": "execute_result"
    }
   ],
   "source": [
    "#Outlier with maximum hold time\n",
    "data.loc[data['H.period'].idxmax()]"
   ]
  },
  {
   "cell_type": "code",
   "execution_count": 7,
   "metadata": {},
   "outputs": [
    {
     "data": {
      "text/plain": [
       "index              3443.0000\n",
       "subject              12.0000\n",
       "sessionIndex          5.0000\n",
       "rep                  44.0000\n",
       "H.period              0.0014\n",
       "DD.period.t           0.1280\n",
       "UD.period.t           0.1266\n",
       "H.t                   0.1270\n",
       "DD.t.i                0.1437\n",
       "UD.t.i                0.0167\n",
       "H.i                   0.1201\n",
       "DD.i.e                0.1135\n",
       "UD.i.e               -0.0066\n",
       "H.e                   0.1180\n",
       "DD.e.five             0.7393\n",
       "UD.e.five             0.6213\n",
       "H.five                0.1473\n",
       "DD.five.Shift.r       0.4179\n",
       "UD.five.Shift.r       0.2706\n",
       "H.Shift.r             0.1323\n",
       "DD.Shift.r.o          0.2162\n",
       "UD.Shift.r.o          0.0839\n",
       "H.o                   0.1212\n",
       "DD.o.a                0.1295\n",
       "UD.o.a                0.0083\n",
       "H.a                   0.1882\n",
       "DD.a.n                0.1370\n",
       "UD.a.n               -0.0512\n",
       "H.n                   0.1094\n",
       "DD.n.l                0.0906\n",
       "UD.n.l               -0.0188\n",
       "H.l                   0.1423\n",
       "DD.l.Return           0.2575\n",
       "UD.l.Return           0.1152\n",
       "H.Return              0.1362\n",
       "Name: 3443, dtype: float64"
      ]
     },
     "execution_count": 7,
     "metadata": {},
     "output_type": "execute_result"
    }
   ],
   "source": [
    "#Outlier with minimum hold time\n",
    "data.loc[data['H.period'].idxmin()]"
   ]
  },
  {
   "cell_type": "markdown",
   "metadata": {},
   "source": [
    "Mapping Index on the x-axis and DD.e.five on the y-axis"
   ]
  },
  {
   "cell_type": "code",
   "execution_count": 8,
   "metadata": {},
   "outputs": [
    {
     "data": {
      "image/png": "[encoded data removed]",
      "text/plain": [
       "<matplotlib.figure.Figure at 0x1d1f59eb518>"
      ]
     },
     "metadata": {},
     "output_type": "display_data"
    }
   ],
   "source": [
    "x = data.loc[:, 'index']\n",
    "y = data.loc[:, 'DD.e.five']\n",
    "plt.scatter(x, y,color='red')\n",
    "plt.autoscale(tight=True)\n",
    "plt.title('User Vs Key-down-key-down time for e and five')\n",
    "plt.ylabel('Key-down-Key-down time for e and five')\n",
    "plt.xlabel('User Index')\n",
    "plt.show()"
   ]
  },
  {
   "cell_type": "markdown",
   "metadata": {},
   "source": [
    "It can be seen that there are quiet a few outliers as well. The same method to find out the maximum and minimum can be used as done previously"
   ]
  },
  {
   "cell_type": "markdown",
   "metadata": {},
   "source": [
    "Now, we'll try to find outliers in Key-up-key-down time of o and a"
   ]
  },
  {
   "cell_type": "code",
   "execution_count": 9,
   "metadata": {
    "scrolled": true
   },
   "outputs": [
    {
     "data": {
      "image/png": "[encoded data removed]",
      "text/plain": [
       "<matplotlib.figure.Figure at 0x1d1f56fc278>"
      ]
     },
     "metadata": {},
     "output_type": "display_data"
    }
   ],
   "source": [
    "x = data.loc[:, 'index']\n",
    "y = data.loc[:, 'UD.o.a']\n",
    "plt.scatter(x, y,color='green')\n",
    "plt.autoscale(tight=True)\n",
    "plt.title('User Vs UD.o.a time')\n",
    "plt.ylabel('Flight time between o and a')\n",
    "plt.xlabel('User Index')\n",
    "plt.show()"
   ]
  }
 ],
 "metadata": {
  "kernelspec": {
   "display_name": "Python 3",
   "language": "python",
   "name": "python3"
  },
  "language_info": {
   "codemirror_mode": {
    "name": "ipython",
    "version": 3
   },
   "file_extension": ".py",
   "mimetype": "text/x-python",
   "name": "python",
   "nbconvert_exporter": "python",
   "pygments_lexer": "ipython3",
   "version": "3.6.2"
  }
 },
 "nbformat": 4,
 "nbformat_minor": 2
}
